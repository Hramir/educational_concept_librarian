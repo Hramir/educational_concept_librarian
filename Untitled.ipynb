{
 "cells": [
  {
   "cell_type": "code",
   "execution_count": 1,
   "id": "3f69b2cc-0f1e-497a-8a11-bbde0feab86a",
   "metadata": {},
   "outputs": [
    {
     "name": "stderr",
     "output_type": "stream",
     "text": [
      "python: can't open file 'C:\\\\Users\\\\rarh9\\\\Desktop\\\\MIT\\\\6.8610\\\\educational_concept_librarian\\\\train_graph_iteration.py': [Errno 2] No such file or directory\n"
     ]
    }
   ],
   "source": [
    "# FEATURE TESTING\n",
    "\n",
    "# 150 epochs -> 2123 seconds = 35 MIN\n",
    "# SQDIST INSTEAD OF DIST\n",
    "# 300 epochs -> 3886 seconds = 65 MIN\n",
    "# 300 EPOCHS!!\n",
    "import numpy as np\n",
    "    # seed_num = np.random.randint(1000, 10000)\n",
    "seed_num = 7777\n",
    "! python train_graph_iteration.py \\\n",
    "    --task lp \\\n",
    "    --act None \\\n",
    "    --dataset library_learning\\\n",
    "    --model HyboNet \\\n",
    "    --threshold 0.3598 \\\n",
    "    --lr 0.025 \\\n",
    "    --dim 3 \\\n",
    "    --num-layers 2 \\\n",
    "    --bias 1 \\\n",
    "    --dropout 0.25 \\\n",
    "    --weight-decay 1e-3 \\\n",
    "    --manifold Lorentz \\\n",
    "    --log-freq 5 \\\n",
    "    --cuda -1 \\\n",
    "    --patience 500 \\\n",
    "    --grad-clip 0.1 \\\n",
    "    --seed {seed_num} \\\n",
    "    --save 1\n"
   ]
  },
  {
   "cell_type": "code",
   "execution_count": null,
   "id": "2cad2211-1418-4a3b-8fdf-e40f8022c570",
   "metadata": {},
   "outputs": [],
   "source": [
    "from visualization import plot_total_avg_hyperbolic_radii\n",
    "from visualization import plot_embeddings_library_learning\n",
    "from visualization import viz_metrics_multiple\n",
    "import os\n",
    "import numpy as np\n",
    "import matplotlib.pyplot as plt\n",
    "date = \"2023_12_4\"\n",
    "log_num = '19'\n",
    "log_path = os.path.join(\"logs\", \"lp\", date, log_num)\n",
    "embeddings_dir = os.path.join(log_path, 'embeddings')\n",
    "log_path = os.path.join(os.getcwd(), 'logs', 'lp', date, log_num)\n",
    "metrics_path = os.path.join(log_path, 'log.txt')\n",
    "\n",
    "# plot_total_avg_hyperbolic_radii(embeddings_dir)\n",
    "    \n",
    "for train_embeddings_dir in os.listdir(embeddings_dir):\n",
    "    if 'test' not in train_embeddings_dir: continue\n",
    "    _, _, train_index_str = train_embeddings_dir.split(\"_\")\n",
    "    # print(os.path.join(log_path, 'embeddings', train_embeddings_dir))\n",
    "    embeddings = np.load(os.path.join(log_path, 'embeddings', train_embeddings_dir))\n",
    "    plt.figure()\n",
    "    plot_embeddings_library_learning(embeddings, title=f\"Hyperbolic Embeddings for Video Transcript {train_index_str}\")\n",
    "    \n",
    "viz_metrics_multiple(metrics_path)"
   ]
  }
 ],
 "metadata": {
  "kernelspec": {
   "display_name": "Python 3 (ipykernel)",
   "language": "python",
   "name": "python3"
  },
  "language_info": {
   "codemirror_mode": {
    "name": "ipython",
    "version": 3
   },
   "file_extension": ".py",
   "mimetype": "text/x-python",
   "name": "python",
   "nbconvert_exporter": "python",
   "pygments_lexer": "ipython3",
   "version": "3.12.0"
  }
 },
 "nbformat": 4,
 "nbformat_minor": 5
}
